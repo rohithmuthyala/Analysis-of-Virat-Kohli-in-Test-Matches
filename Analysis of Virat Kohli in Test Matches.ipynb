{
 "cells": [
  {
   "cell_type": "markdown",
   "metadata": {},
   "source": [
    "# Analysis of Virat Kohli in Test Matches\n",
    "\n",
    "**Using data from Virat Kohli Performance in Test Matches·**\n",
    "\n",
    "Author:Rohith Muthyala"
   ]
  },
  {
   "cell_type": "code",
   "execution_count": 47,
   "metadata": {},
   "outputs": [],
   "source": [
    "#Importing all libraries\n",
    "\n",
    "import numpy as np\n",
    "import pandas as pd\n",
    "import matplotlib.pyplot as plt\n",
    "import seaborn as sns\n",
    "%matplotlib inline"
   ]
  },
  {
   "cell_type": "code",
   "execution_count": 4,
   "metadata": {},
   "outputs": [
    {
     "data": {
      "text/plain": [
       "pandas.core.series.Series"
      ]
     },
     "execution_count": 4,
     "metadata": {},
     "output_type": "execute_result"
    }
   ],
   "source": [
    "data=pd.read_csv('F:/Kohli/kohli-centuries-test.csv')\n",
    "type(data['Bat2']=='DNB')"
   ]
  },
  {
   "cell_type": "code",
   "execution_count": 5,
   "metadata": {},
   "outputs": [
    {
     "data": {
      "text/html": [
       "<div>\n",
       "<style scoped>\n",
       "    .dataframe tbody tr th:only-of-type {\n",
       "        vertical-align: middle;\n",
       "    }\n",
       "\n",
       "    .dataframe tbody tr th {\n",
       "        vertical-align: top;\n",
       "    }\n",
       "\n",
       "    .dataframe thead th {\n",
       "        text-align: right;\n",
       "    }\n",
       "</style>\n",
       "<table border=\"1\" class=\"dataframe\">\n",
       "  <thead>\n",
       "    <tr style=\"text-align: right;\">\n",
       "      <th></th>\n",
       "      <th>Bat1</th>\n",
       "      <th>Bat2</th>\n",
       "      <th>Runs</th>\n",
       "      <th>Wkts</th>\n",
       "      <th>Conc</th>\n",
       "      <th>Ct</th>\n",
       "      <th>St</th>\n",
       "      <th>Unnamed: 7</th>\n",
       "      <th>Opposition</th>\n",
       "      <th>Ground</th>\n",
       "      <th>Start Date</th>\n",
       "    </tr>\n",
       "  </thead>\n",
       "  <tbody>\n",
       "    <tr>\n",
       "      <th>0</th>\n",
       "      <td>4</td>\n",
       "      <td>15</td>\n",
       "      <td>19</td>\n",
       "      <td>-</td>\n",
       "      <td>-</td>\n",
       "      <td>2</td>\n",
       "      <td>0</td>\n",
       "      <td>NaN</td>\n",
       "      <td>v West Indies</td>\n",
       "      <td>Kingston</td>\n",
       "      <td>20-Jun-11</td>\n",
       "    </tr>\n",
       "    <tr>\n",
       "      <th>1</th>\n",
       "      <td>0</td>\n",
       "      <td>27</td>\n",
       "      <td>27</td>\n",
       "      <td>-</td>\n",
       "      <td>-</td>\n",
       "      <td>2</td>\n",
       "      <td>0</td>\n",
       "      <td>NaN</td>\n",
       "      <td>v West Indies</td>\n",
       "      <td>Bridgetown</td>\n",
       "      <td>28-Jun-11</td>\n",
       "    </tr>\n",
       "    <tr>\n",
       "      <th>2</th>\n",
       "      <td>30</td>\n",
       "      <td>DNB</td>\n",
       "      <td>30</td>\n",
       "      <td>-</td>\n",
       "      <td>-</td>\n",
       "      <td>1</td>\n",
       "      <td>0</td>\n",
       "      <td>NaN</td>\n",
       "      <td>v West Indies</td>\n",
       "      <td>Roseau</td>\n",
       "      <td>6-Jul-11</td>\n",
       "    </tr>\n",
       "    <tr>\n",
       "      <th>3</th>\n",
       "      <td>52</td>\n",
       "      <td>63</td>\n",
       "      <td>115</td>\n",
       "      <td>0</td>\n",
       "      <td>9</td>\n",
       "      <td>2</td>\n",
       "      <td>0</td>\n",
       "      <td>NaN</td>\n",
       "      <td>v West Indies</td>\n",
       "      <td>Mumbai</td>\n",
       "      <td>22-Nov-11</td>\n",
       "    </tr>\n",
       "    <tr>\n",
       "      <th>4</th>\n",
       "      <td>11</td>\n",
       "      <td>0</td>\n",
       "      <td>11</td>\n",
       "      <td>-</td>\n",
       "      <td>-</td>\n",
       "      <td>2</td>\n",
       "      <td>0</td>\n",
       "      <td>NaN</td>\n",
       "      <td>v Australia</td>\n",
       "      <td>Melbourne</td>\n",
       "      <td>26-Dec-11</td>\n",
       "    </tr>\n",
       "  </tbody>\n",
       "</table>\n",
       "</div>"
      ],
      "text/plain": [
       "  Bat1 Bat2 Runs Wkts Conc  Ct  St  Unnamed: 7     Opposition      Ground  \\\n",
       "0    4   15   19    -    -   2   0         NaN  v West Indies    Kingston   \n",
       "1    0   27   27    -    -   2   0         NaN  v West Indies  Bridgetown   \n",
       "2   30  DNB   30    -    -   1   0         NaN  v West Indies      Roseau   \n",
       "3   52   63  115    0    9   2   0         NaN  v West Indies      Mumbai   \n",
       "4   11    0   11    -    -   2   0         NaN    v Australia   Melbourne   \n",
       "\n",
       "  Start Date  \n",
       "0  20-Jun-11  \n",
       "1  28-Jun-11  \n",
       "2   6-Jul-11  \n",
       "3  22-Nov-11  \n",
       "4  26-Dec-11  "
      ]
     },
     "execution_count": 5,
     "metadata": {},
     "output_type": "execute_result"
    }
   ],
   "source": [
    "data.head()"
   ]
  },
  {
   "cell_type": "code",
   "execution_count": 7,
   "metadata": {},
   "outputs": [
    {
     "data": {
      "text/plain": [
       "Bat1          0\n",
       "Bat2          0\n",
       "Runs          0\n",
       "Wkts          0\n",
       "Conc          0\n",
       "Ct            0\n",
       "St            0\n",
       "Unnamed: 7    0\n",
       "Opposition    0\n",
       "Ground        0\n",
       "Start Date    0\n",
       "dtype: int64"
      ]
     },
     "execution_count": 7,
     "metadata": {},
     "output_type": "execute_result"
    }
   ],
   "source": [
    "data[data.isnull()=='True'].count()\n"
   ]
  },
  {
   "cell_type": "code",
   "execution_count": 8,
   "metadata": {},
   "outputs": [
    {
     "name": "stdout",
     "output_type": "stream",
     "text": [
      "<class 'pandas.core.frame.DataFrame'>\n",
      "RangeIndex: 69 entries, 0 to 68\n",
      "Data columns (total 11 columns):\n",
      " #   Column      Non-Null Count  Dtype  \n",
      "---  ------      --------------  -----  \n",
      " 0   Bat1        69 non-null     object \n",
      " 1   Bat2        69 non-null     object \n",
      " 2   Runs        69 non-null     object \n",
      " 3   Wkts        69 non-null     object \n",
      " 4   Conc        69 non-null     object \n",
      " 5   Ct          69 non-null     int64  \n",
      " 6   St          69 non-null     int64  \n",
      " 7   Unnamed: 7  0 non-null      float64\n",
      " 8   Opposition  69 non-null     object \n",
      " 9   Ground      69 non-null     object \n",
      " 10  Start Date  69 non-null     object \n",
      "dtypes: float64(1), int64(2), object(8)\n",
      "memory usage: 6.1+ KB\n"
     ]
    }
   ],
   "source": [
    "data.info()"
   ]
  },
  {
   "cell_type": "code",
   "execution_count": 9,
   "metadata": {},
   "outputs": [],
   "source": [
    "data['year'] = pd.DatetimeIndex(data['Start Date']).year\n"
   ]
  },
  {
   "cell_type": "code",
   "execution_count": 10,
   "metadata": {},
   "outputs": [
    {
     "name": "stdout",
     "output_type": "stream",
     "text": [
      "No. of Times Virat Kohli got out for 0:\n"
     ]
    },
    {
     "data": {
      "text/plain": [
       "6"
      ]
     },
     "execution_count": 10,
     "metadata": {},
     "output_type": "execute_result"
    }
   ],
   "source": [
    "print(\"No. of Times Virat Kohli got out for 0:\")\n",
    "((data.Bat1 == '0') |  (data.Bat2 == '0')).sum()"
   ]
  },
  {
   "cell_type": "code",
   "execution_count": 11,
   "metadata": {},
   "outputs": [
    {
     "name": "stdout",
     "output_type": "stream",
     "text": [
      "<class 'pandas.core.frame.DataFrame'>\n",
      "RangeIndex: 69 entries, 0 to 68\n",
      "Data columns (total 12 columns):\n",
      " #   Column      Non-Null Count  Dtype  \n",
      "---  ------      --------------  -----  \n",
      " 0   Bat1        69 non-null     object \n",
      " 1   Bat2        69 non-null     object \n",
      " 2   Runs        69 non-null     object \n",
      " 3   Wkts        69 non-null     object \n",
      " 4   Conc        69 non-null     object \n",
      " 5   Ct          69 non-null     int64  \n",
      " 6   St          69 non-null     int64  \n",
      " 7   Unnamed: 7  0 non-null      float64\n",
      " 8   Opposition  69 non-null     object \n",
      " 9   Ground      69 non-null     object \n",
      " 10  Start Date  69 non-null     object \n",
      " 11  year        69 non-null     int64  \n",
      "dtypes: float64(1), int64(3), object(8)\n",
      "memory usage: 6.6+ KB\n"
     ]
    }
   ],
   "source": [
    "data.info()"
   ]
  },
  {
   "cell_type": "code",
   "execution_count": 12,
   "metadata": {},
   "outputs": [
    {
     "data": {
      "text/html": [
       "<div>\n",
       "<style scoped>\n",
       "    .dataframe tbody tr th:only-of-type {\n",
       "        vertical-align: middle;\n",
       "    }\n",
       "\n",
       "    .dataframe tbody tr th {\n",
       "        vertical-align: top;\n",
       "    }\n",
       "\n",
       "    .dataframe thead th {\n",
       "        text-align: right;\n",
       "    }\n",
       "</style>\n",
       "<table border=\"1\" class=\"dataframe\">\n",
       "  <thead>\n",
       "    <tr style=\"text-align: right;\">\n",
       "      <th></th>\n",
       "      <th>Bat1</th>\n",
       "      <th>Bat2</th>\n",
       "      <th>Runs</th>\n",
       "      <th>Wkts</th>\n",
       "      <th>Conc</th>\n",
       "      <th>Ct</th>\n",
       "      <th>St</th>\n",
       "      <th>Unnamed: 7</th>\n",
       "      <th>Opposition</th>\n",
       "      <th>Ground</th>\n",
       "      <th>Start Date</th>\n",
       "      <th>year</th>\n",
       "    </tr>\n",
       "  </thead>\n",
       "  <tbody>\n",
       "    <tr>\n",
       "      <th>0</th>\n",
       "      <td>4</td>\n",
       "      <td>15</td>\n",
       "      <td>19</td>\n",
       "      <td>-</td>\n",
       "      <td>-</td>\n",
       "      <td>2</td>\n",
       "      <td>0</td>\n",
       "      <td>NaN</td>\n",
       "      <td>v West Indies</td>\n",
       "      <td>Kingston</td>\n",
       "      <td>20-Jun-11</td>\n",
       "      <td>2011</td>\n",
       "    </tr>\n",
       "    <tr>\n",
       "      <th>1</th>\n",
       "      <td>0</td>\n",
       "      <td>27</td>\n",
       "      <td>27</td>\n",
       "      <td>-</td>\n",
       "      <td>-</td>\n",
       "      <td>2</td>\n",
       "      <td>0</td>\n",
       "      <td>NaN</td>\n",
       "      <td>v West Indies</td>\n",
       "      <td>Bridgetown</td>\n",
       "      <td>28-Jun-11</td>\n",
       "      <td>2011</td>\n",
       "    </tr>\n",
       "    <tr>\n",
       "      <th>2</th>\n",
       "      <td>30</td>\n",
       "      <td>DNB</td>\n",
       "      <td>30</td>\n",
       "      <td>-</td>\n",
       "      <td>-</td>\n",
       "      <td>1</td>\n",
       "      <td>0</td>\n",
       "      <td>NaN</td>\n",
       "      <td>v West Indies</td>\n",
       "      <td>Roseau</td>\n",
       "      <td>6-Jul-11</td>\n",
       "      <td>2011</td>\n",
       "    </tr>\n",
       "    <tr>\n",
       "      <th>3</th>\n",
       "      <td>52</td>\n",
       "      <td>63</td>\n",
       "      <td>115</td>\n",
       "      <td>0</td>\n",
       "      <td>9</td>\n",
       "      <td>2</td>\n",
       "      <td>0</td>\n",
       "      <td>NaN</td>\n",
       "      <td>v West Indies</td>\n",
       "      <td>Mumbai</td>\n",
       "      <td>22-Nov-11</td>\n",
       "      <td>2011</td>\n",
       "    </tr>\n",
       "    <tr>\n",
       "      <th>4</th>\n",
       "      <td>11</td>\n",
       "      <td>0</td>\n",
       "      <td>11</td>\n",
       "      <td>-</td>\n",
       "      <td>-</td>\n",
       "      <td>2</td>\n",
       "      <td>0</td>\n",
       "      <td>NaN</td>\n",
       "      <td>v Australia</td>\n",
       "      <td>Melbourne</td>\n",
       "      <td>26-Dec-11</td>\n",
       "      <td>2011</td>\n",
       "    </tr>\n",
       "  </tbody>\n",
       "</table>\n",
       "</div>"
      ],
      "text/plain": [
       "  Bat1 Bat2 Runs Wkts Conc  Ct  St  Unnamed: 7     Opposition      Ground  \\\n",
       "0    4   15   19    -    -   2   0         NaN  v West Indies    Kingston   \n",
       "1    0   27   27    -    -   2   0         NaN  v West Indies  Bridgetown   \n",
       "2   30  DNB   30    -    -   1   0         NaN  v West Indies      Roseau   \n",
       "3   52   63  115    0    9   2   0         NaN  v West Indies      Mumbai   \n",
       "4   11    0   11    -    -   2   0         NaN    v Australia   Melbourne   \n",
       "\n",
       "  Start Date  year  \n",
       "0  20-Jun-11  2011  \n",
       "1  28-Jun-11  2011  \n",
       "2   6-Jul-11  2011  \n",
       "3  22-Nov-11  2011  \n",
       "4  26-Dec-11  2011  "
      ]
     },
     "execution_count": 12,
     "metadata": {},
     "output_type": "execute_result"
    }
   ],
   "source": [
    "data.head()"
   ]
  },
  {
   "cell_type": "code",
   "execution_count": 13,
   "metadata": {},
   "outputs": [
    {
     "data": {
      "text/html": [
       "<div>\n",
       "<style scoped>\n",
       "    .dataframe tbody tr th:only-of-type {\n",
       "        vertical-align: middle;\n",
       "    }\n",
       "\n",
       "    .dataframe tbody tr th {\n",
       "        vertical-align: top;\n",
       "    }\n",
       "\n",
       "    .dataframe thead th {\n",
       "        text-align: right;\n",
       "    }\n",
       "</style>\n",
       "<table border=\"1\" class=\"dataframe\">\n",
       "  <thead>\n",
       "    <tr style=\"text-align: right;\">\n",
       "      <th></th>\n",
       "      <th>Bat1</th>\n",
       "      <th>Bat2</th>\n",
       "      <th>Runs</th>\n",
       "      <th>Wkts</th>\n",
       "      <th>Conc</th>\n",
       "      <th>Ct</th>\n",
       "      <th>St</th>\n",
       "      <th>Unnamed: 7</th>\n",
       "      <th>Opposition</th>\n",
       "      <th>Ground</th>\n",
       "      <th>Start Date</th>\n",
       "      <th>year</th>\n",
       "    </tr>\n",
       "  </thead>\n",
       "  <tbody>\n",
       "    <tr>\n",
       "      <th>0</th>\n",
       "      <td>4</td>\n",
       "      <td>15</td>\n",
       "      <td>19</td>\n",
       "      <td>-</td>\n",
       "      <td>-</td>\n",
       "      <td>2</td>\n",
       "      <td>0</td>\n",
       "      <td>NaN</td>\n",
       "      <td>West Indies</td>\n",
       "      <td>Kingston</td>\n",
       "      <td>20-Jun-11</td>\n",
       "      <td>2011</td>\n",
       "    </tr>\n",
       "    <tr>\n",
       "      <th>1</th>\n",
       "      <td>0</td>\n",
       "      <td>27</td>\n",
       "      <td>27</td>\n",
       "      <td>-</td>\n",
       "      <td>-</td>\n",
       "      <td>2</td>\n",
       "      <td>0</td>\n",
       "      <td>NaN</td>\n",
       "      <td>West Indies</td>\n",
       "      <td>Bridgetown</td>\n",
       "      <td>28-Jun-11</td>\n",
       "      <td>2011</td>\n",
       "    </tr>\n",
       "    <tr>\n",
       "      <th>2</th>\n",
       "      <td>30</td>\n",
       "      <td>0</td>\n",
       "      <td>30</td>\n",
       "      <td>-</td>\n",
       "      <td>-</td>\n",
       "      <td>1</td>\n",
       "      <td>0</td>\n",
       "      <td>NaN</td>\n",
       "      <td>West Indies</td>\n",
       "      <td>Roseau</td>\n",
       "      <td>6-Jul-11</td>\n",
       "      <td>2011</td>\n",
       "    </tr>\n",
       "    <tr>\n",
       "      <th>3</th>\n",
       "      <td>52</td>\n",
       "      <td>63</td>\n",
       "      <td>115</td>\n",
       "      <td>0</td>\n",
       "      <td>9</td>\n",
       "      <td>2</td>\n",
       "      <td>0</td>\n",
       "      <td>NaN</td>\n",
       "      <td>West Indies</td>\n",
       "      <td>Mumbai</td>\n",
       "      <td>22-Nov-11</td>\n",
       "      <td>2011</td>\n",
       "    </tr>\n",
       "    <tr>\n",
       "      <th>4</th>\n",
       "      <td>11</td>\n",
       "      <td>0</td>\n",
       "      <td>11</td>\n",
       "      <td>-</td>\n",
       "      <td>-</td>\n",
       "      <td>2</td>\n",
       "      <td>0</td>\n",
       "      <td>NaN</td>\n",
       "      <td>Australia</td>\n",
       "      <td>Melbourne</td>\n",
       "      <td>26-Dec-11</td>\n",
       "      <td>2011</td>\n",
       "    </tr>\n",
       "    <tr>\n",
       "      <th>...</th>\n",
       "      <td>...</td>\n",
       "      <td>...</td>\n",
       "      <td>...</td>\n",
       "      <td>...</td>\n",
       "      <td>...</td>\n",
       "      <td>...</td>\n",
       "      <td>...</td>\n",
       "      <td>...</td>\n",
       "      <td>...</td>\n",
       "      <td>...</td>\n",
       "      <td>...</td>\n",
       "      <td>...</td>\n",
       "    </tr>\n",
       "    <tr>\n",
       "      <th>64</th>\n",
       "      <td>153</td>\n",
       "      <td>5</td>\n",
       "      <td>158</td>\n",
       "      <td>-</td>\n",
       "      <td>-</td>\n",
       "      <td>2</td>\n",
       "      <td>0</td>\n",
       "      <td>NaN</td>\n",
       "      <td>South Africa</td>\n",
       "      <td>Centurion</td>\n",
       "      <td>13-Jan-18</td>\n",
       "      <td>2018</td>\n",
       "    </tr>\n",
       "    <tr>\n",
       "      <th>65</th>\n",
       "      <td>54</td>\n",
       "      <td>41</td>\n",
       "      <td>95</td>\n",
       "      <td>-</td>\n",
       "      <td>-</td>\n",
       "      <td>0</td>\n",
       "      <td>0</td>\n",
       "      <td>NaN</td>\n",
       "      <td>South Africa</td>\n",
       "      <td>Johannesburg</td>\n",
       "      <td>24-Jan-18</td>\n",
       "      <td>2018</td>\n",
       "    </tr>\n",
       "    <tr>\n",
       "      <th>66</th>\n",
       "      <td>149</td>\n",
       "      <td>51</td>\n",
       "      <td>200</td>\n",
       "      <td>-</td>\n",
       "      <td>-</td>\n",
       "      <td>1</td>\n",
       "      <td>0</td>\n",
       "      <td>NaN</td>\n",
       "      <td>England</td>\n",
       "      <td>Birmingham</td>\n",
       "      <td>1-Aug-18</td>\n",
       "      <td>2018</td>\n",
       "    </tr>\n",
       "    <tr>\n",
       "      <th>67</th>\n",
       "      <td>23</td>\n",
       "      <td>17</td>\n",
       "      <td>40</td>\n",
       "      <td>-</td>\n",
       "      <td>-</td>\n",
       "      <td>0</td>\n",
       "      <td>0</td>\n",
       "      <td>NaN</td>\n",
       "      <td>England</td>\n",
       "      <td>Lord's</td>\n",
       "      <td>9-Aug-18</td>\n",
       "      <td>2018</td>\n",
       "    </tr>\n",
       "    <tr>\n",
       "      <th>68</th>\n",
       "      <td>97</td>\n",
       "      <td>103</td>\n",
       "      <td>200</td>\n",
       "      <td>-</td>\n",
       "      <td>-</td>\n",
       "      <td>1</td>\n",
       "      <td>0</td>\n",
       "      <td>NaN</td>\n",
       "      <td>England</td>\n",
       "      <td>Nottingham</td>\n",
       "      <td>18-Aug-18</td>\n",
       "      <td>2018</td>\n",
       "    </tr>\n",
       "  </tbody>\n",
       "</table>\n",
       "<p>69 rows × 12 columns</p>\n",
       "</div>"
      ],
      "text/plain": [
       "   Bat1 Bat2 Runs Wkts Conc  Ct  St  Unnamed: 7    Opposition        Ground  \\\n",
       "0     4   15   19    -    -   2   0         NaN   West Indies      Kingston   \n",
       "1     0   27   27    -    -   2   0         NaN   West Indies    Bridgetown   \n",
       "2    30    0   30    -    -   1   0         NaN   West Indies        Roseau   \n",
       "3    52   63  115    0    9   2   0         NaN   West Indies        Mumbai   \n",
       "4    11    0   11    -    -   2   0         NaN     Australia     Melbourne   \n",
       "..  ...  ...  ...  ...  ...  ..  ..         ...           ...           ...   \n",
       "64  153    5  158    -    -   2   0         NaN  South Africa     Centurion   \n",
       "65   54   41   95    -    -   0   0         NaN  South Africa  Johannesburg   \n",
       "66  149   51  200    -    -   1   0         NaN       England    Birmingham   \n",
       "67   23   17   40    -    -   0   0         NaN       England        Lord's   \n",
       "68   97  103  200    -    -   1   0         NaN       England    Nottingham   \n",
       "\n",
       "   Start Date  year  \n",
       "0   20-Jun-11  2011  \n",
       "1   28-Jun-11  2011  \n",
       "2    6-Jul-11  2011  \n",
       "3   22-Nov-11  2011  \n",
       "4   26-Dec-11  2011  \n",
       "..        ...   ...  \n",
       "64  13-Jan-18  2018  \n",
       "65  24-Jan-18  2018  \n",
       "66   1-Aug-18  2018  \n",
       "67   9-Aug-18  2018  \n",
       "68  18-Aug-18  2018  \n",
       "\n",
       "[69 rows x 12 columns]"
      ]
     },
     "execution_count": 13,
     "metadata": {},
     "output_type": "execute_result"
    }
   ],
   "source": [
    "data['Opposition']=data['Opposition'].str.replace(\"v \",\"\")\n",
    "data['Bat1']=data['Bat1'].str.replace(\"DNB\",\"0\")\n",
    "data['Bat1']=data['Bat1'].str.replace(\"T0\",\"0\")\n",
    "data['Bat1']=data['Bat1'].str.replace(\"TDNB\",\"0\")\n",
    "data['Bat1']=data['Bat1'].str.replace(\"-\",\"0\")\n",
    "data['Bat1']=data['Bat1'].str.replace(\"*\",\"\")\n",
    "data['Bat2']=data['Bat2'].str.replace(\"DNB\",\"0\")\n",
    "data['Bat2']=data['Bat2'].str.replace(\"-\",\"0\")\n",
    "data['Bat2']=data['Bat2'].str.replace(\"*\",\"\")\n",
    "data"
   ]
  },
  {
   "cell_type": "code",
   "execution_count": 14,
   "metadata": {},
   "outputs": [
    {
     "name": "stdout",
     "output_type": "stream",
     "text": [
      "65\n"
     ]
    }
   ],
   "source": [
    "Catches = data['Ct'].sum()\n",
    "print (Catches)"
   ]
  },
  {
   "cell_type": "markdown",
   "metadata": {},
   "source": [
    "**Virat Kohli has taken 65 catches in test matches**"
   ]
  },
  {
   "cell_type": "code",
   "execution_count": 15,
   "metadata": {},
   "outputs": [
    {
     "data": {
      "text/plain": [
       "pandas.core.series.Series"
      ]
     },
     "execution_count": 15,
     "metadata": {},
     "output_type": "execute_result"
    }
   ],
   "source": [
    "type(data['Runs'])"
   ]
  },
  {
   "cell_type": "code",
   "execution_count": 16,
   "metadata": {},
   "outputs": [],
   "source": [
    "data['Conc']=data['Conc'].str.replace(\"-\",\"0\")"
   ]
  },
  {
   "cell_type": "code",
   "execution_count": 17,
   "metadata": {},
   "outputs": [
    {
     "name": "stdout",
     "output_type": "stream",
     "text": [
      "<class 'pandas.core.frame.DataFrame'>\n",
      "RangeIndex: 69 entries, 0 to 68\n",
      "Data columns (total 12 columns):\n",
      " #   Column      Non-Null Count  Dtype  \n",
      "---  ------      --------------  -----  \n",
      " 0   Bat1        69 non-null     object \n",
      " 1   Bat2        69 non-null     object \n",
      " 2   Runs        69 non-null     object \n",
      " 3   Wkts        69 non-null     object \n",
      " 4   Conc        69 non-null     int64  \n",
      " 5   Ct          69 non-null     int64  \n",
      " 6   St          69 non-null     int64  \n",
      " 7   Unnamed: 7  0 non-null      float64\n",
      " 8   Opposition  69 non-null     object \n",
      " 9   Ground      69 non-null     object \n",
      " 10  Start Date  69 non-null     object \n",
      " 11  year        69 non-null     int64  \n",
      "dtypes: float64(1), int64(4), object(7)\n",
      "memory usage: 6.6+ KB\n"
     ]
    }
   ],
   "source": [
    "data[\"Conc\"] = pd.to_numeric(data[\"Conc\"])\n",
    "data.info()"
   ]
  },
  {
   "cell_type": "code",
   "execution_count": 18,
   "metadata": {},
   "outputs": [
    {
     "name": "stdout",
     "output_type": "stream",
     "text": [
      "76\n"
     ]
    }
   ],
   "source": [
    "runcon = data['Conc'].sum()\n",
    "print (runcon)"
   ]
  },
  {
   "cell_type": "markdown",
   "metadata": {},
   "source": [
    "**Virat Kohli conceded 76 runs without picking any wicket**"
   ]
  },
  {
   "cell_type": "code",
   "execution_count": 19,
   "metadata": {},
   "outputs": [
    {
     "name": "stdout",
     "output_type": "stream",
     "text": [
      "<class 'pandas.core.frame.DataFrame'>\n",
      "RangeIndex: 69 entries, 0 to 68\n",
      "Data columns (total 12 columns):\n",
      " #   Column      Non-Null Count  Dtype  \n",
      "---  ------      --------------  -----  \n",
      " 0   Bat1        69 non-null     object \n",
      " 1   Bat2        69 non-null     object \n",
      " 2   Runs        69 non-null     int64  \n",
      " 3   Wkts        69 non-null     object \n",
      " 4   Conc        69 non-null     int64  \n",
      " 5   Ct          69 non-null     int64  \n",
      " 6   St          69 non-null     int64  \n",
      " 7   Unnamed: 7  0 non-null      float64\n",
      " 8   Opposition  69 non-null     object \n",
      " 9   Ground      69 non-null     object \n",
      " 10  Start Date  69 non-null     object \n",
      " 11  year        69 non-null     int64  \n",
      "dtypes: float64(1), int64(5), object(6)\n",
      "memory usage: 6.6+ KB\n"
     ]
    }
   ],
   "source": [
    "data['Runs']=data['Runs'].str.replace(\"-\",\"0\")\n",
    "data[\"Runs\"] = pd.to_numeric(data[\"Runs\"])\n",
    "data.info()"
   ]
  },
  {
   "cell_type": "code",
   "execution_count": 20,
   "metadata": {},
   "outputs": [
    {
     "name": "stdout",
     "output_type": "stream",
     "text": [
      "5994\n"
     ]
    }
   ],
   "source": [
    "runsco = data['Runs'].sum()\n",
    "print (runsco)"
   ]
  },
  {
   "cell_type": "markdown",
   "metadata": {},
   "source": [
    "**Virat kohli has scored 5994 runs in 69 Matches**"
   ]
  },
  {
   "cell_type": "code",
   "execution_count": 21,
   "metadata": {},
   "outputs": [
    {
     "name": "stdout",
     "output_type": "stream",
     "text": [
      "1917\n"
     ]
    }
   ],
   "source": [
    "data[\"Bat2\"] = pd.to_numeric(data[\"Bat2\"])\n",
    "runsin=data['Bat2'].sum()\n",
    "print (runsin)"
   ]
  },
  {
   "cell_type": "markdown",
   "metadata": {},
   "source": [
    "**Virat Kohli has scored 1917 runs in second innings**"
   ]
  },
  {
   "cell_type": "code",
   "execution_count": 22,
   "metadata": {},
   "outputs": [
    {
     "name": "stdout",
     "output_type": "stream",
     "text": [
      "4077\n"
     ]
    }
   ],
   "source": [
    "data[\"Bat1\"] = pd.to_numeric(data[\"Bat1\"])\n",
    "runsin=data['Bat1'].sum()\n",
    "print (runsin)"
   ]
  },
  {
   "cell_type": "markdown",
   "metadata": {},
   "source": [
    "**Virat Kohli has scored 4077 runs in first innings**"
   ]
  },
  {
   "cell_type": "code",
   "execution_count": 23,
   "metadata": {},
   "outputs": [
    {
     "data": {
      "image/png": "[encoded data removed]",
      "text/plain": [
       "<Figure size 432x432 with 1 Axes>"
      ]
     },
     "metadata": {},
     "output_type": "display_data"
    }
   ],
   "source": [
    "slices=[data['Bat1'].sum(),data['Bat2'].sum()]\n",
    "labels=['1st Ínnings','2nd Ínnings']\n",
    "plt.pie(slices, labels=labels, autopct='%1.0f%%', pctdistance=.5, labeldistance=1.2,shadow=True)\n",
    "fig = plt.gcf()\n",
    "plt.title(\"Total Runs percentage scored in 1st innings vs 2nd Innings\", bbox={'facecolor':'1', 'pad':5})\n",
    "\n",
    "fig.set_size_inches(6,6)\n",
    "plt.show()"
   ]
  },
  {
   "cell_type": "code",
   "execution_count": 24,
   "metadata": {},
   "outputs": [
    {
     "name": "stdout",
     "output_type": "stream",
     "text": [
      "Runs Scored against England:\n"
     ]
    },
    {
     "data": {
      "text/plain": [
       "1417"
      ]
     },
     "execution_count": 24,
     "metadata": {},
     "output_type": "execute_result"
    }
   ],
   "source": [
    "print(\"Runs Scored against England:\")\n",
    "data[data[\"Opposition\"]==\"England\"].Runs.sum()"
   ]
  },
  {
   "cell_type": "code",
   "execution_count": 25,
   "metadata": {},
   "outputs": [
    {
     "name": "stdout",
     "output_type": "stream",
     "text": [
      "Runs Scored against South Africa:\n"
     ]
    },
    {
     "data": {
      "text/plain": [
       "758"
      ]
     },
     "execution_count": 25,
     "metadata": {},
     "output_type": "execute_result"
    }
   ],
   "source": [
    "print(\"Runs Scored against South Africa:\")\n",
    "data[data[\"Opposition\"]==\"South Africa\"].Runs.sum()"
   ]
  },
  {
   "cell_type": "code",
   "execution_count": 26,
   "metadata": {},
   "outputs": [
    {
     "name": "stdout",
     "output_type": "stream",
     "text": [
      "Runs Scored against New Zealand:\n"
     ]
    },
    {
     "data": {
      "text/plain": [
       "735"
      ]
     },
     "execution_count": 26,
     "metadata": {},
     "output_type": "execute_result"
    }
   ],
   "source": [
    "print(\"Runs Scored against New Zealand:\")\n",
    "data[data[\"Opposition\"]==\"New Zealand\"].Runs.sum()"
   ]
  },
  {
   "cell_type": "code",
   "execution_count": 27,
   "metadata": {},
   "outputs": [
    {
     "name": "stdout",
     "output_type": "stream",
     "text": [
      "Runs Scored against West Indies:\n"
     ]
    },
    {
     "data": {
      "text/plain": [
       "502"
      ]
     },
     "execution_count": 27,
     "metadata": {},
     "output_type": "execute_result"
    }
   ],
   "source": [
    "print(\"Runs Scored against West Indies:\")\n",
    "data[data[\"Opposition\"]==\"West Indies\"].Runs.sum()"
   ]
  },
  {
   "cell_type": "code",
   "execution_count": 28,
   "metadata": {},
   "outputs": [
    {
     "name": "stdout",
     "output_type": "stream",
     "text": [
      "Runs Scored against Austrailia:\n"
     ]
    },
    {
     "data": {
      "text/plain": [
       "1322"
      ]
     },
     "execution_count": 28,
     "metadata": {},
     "output_type": "execute_result"
    }
   ],
   "source": [
    "print(\"Runs Scored against Austrailia:\")\n",
    "data[data[\"Opposition\"]==\"Australia\"].Runs.sum()"
   ]
  },
  {
   "cell_type": "code",
   "execution_count": 29,
   "metadata": {},
   "outputs": [
    {
     "name": "stdout",
     "output_type": "stream",
     "text": [
      "Runs Scored against Srilanka:\n"
     ]
    },
    {
     "data": {
      "text/plain": [
       "1004"
      ]
     },
     "execution_count": 29,
     "metadata": {},
     "output_type": "execute_result"
    }
   ],
   "source": [
    "print(\"Runs Scored against Srilanka:\")\n",
    "data[data[\"Opposition\"]==\"Sri Lanka\"].Runs.sum()"
   ]
  },
  {
   "cell_type": "code",
   "execution_count": 30,
   "metadata": {},
   "outputs": [
    {
     "name": "stdout",
     "output_type": "stream",
     "text": [
      "Runs Scored against Bangladesh:\n"
     ]
    },
    {
     "data": {
      "text/plain": [
       "256"
      ]
     },
     "execution_count": 30,
     "metadata": {},
     "output_type": "execute_result"
    }
   ],
   "source": [
    "print(\"Runs Scored against Bangladesh:\")\n",
    "data[data[\"Opposition\"]==\"Bangladesh\"].Runs.sum()"
   ]
  },
  {
   "cell_type": "code",
   "execution_count": 31,
   "metadata": {},
   "outputs": [
    {
     "data": {
      "image/png": "[encoded data removed]",
      "text/plain": [
       "<Figure size 432x432 with 1 Axes>"
      ]
     },
     "metadata": {},
     "output_type": "display_data"
    }
   ],
   "source": [
    "slices=[data[data[\"Opposition\"]==\"Sri Lanka\"].Runs.sum(),\n",
    "        data[data[\"Opposition\"]==\"Australia\"].Runs.sum(),\n",
    "        data[data[\"Opposition\"]==\"West Indies\"].Runs.sum(),\n",
    "        data[data[\"Opposition\"]==\"New Zealand\"].Runs.sum(),\n",
    "        data[data[\"Opposition\"]==\"England\"].Runs.sum(),\n",
    "       data[data[\"Opposition\"]==\"South Africa\"].Runs.sum(),\n",
    "       data[data[\"Opposition\"]==\"Bangladesh\"].Runs.sum(),]\n",
    "labels=['Sri Lanka','Australia','West Indies','New Zealand','England','South Africa','Bangladesh']\n",
    "colors = ['#3333cc','#ffff1a','#ff3333','#c2c2d6','#6699ff','#c4ff4d','#339933']\n",
    "plt.pie(slices,colors=colors, labels=labels, autopct='%1.0f%%', pctdistance=.5, labeldistance=1.2,shadow=True)\n",
    "fig = plt.gcf()\n",
    "plt.title(\"Total Runs percentage scored against each team\", bbox={'facecolor':'1', 'pad':5})\n",
    "\n",
    "fig.set_size_inches(6,6)\n",
    "plt.show()\n"
   ]
  },
  {
   "cell_type": "code",
   "execution_count": 32,
   "metadata": {},
   "outputs": [
    {
     "name": "stdout",
     "output_type": "stream",
     "text": [
      "No. of Centuries Scored by Virat Kohli in 1st Innings is:\n",
      "18\n"
     ]
    }
   ],
   "source": [
    "count1=data[data[\"Bat1\"]>=100].shape[0]\n",
    "print(\"No. of Centuries Scored by Virat Kohli in 1st Innings is:\")\n",
    "print (count1)"
   ]
  },
  {
   "cell_type": "code",
   "execution_count": 33,
   "metadata": {},
   "outputs": [
    {
     "name": "stdout",
     "output_type": "stream",
     "text": [
      "No. of Centuries Scored by Virat Kohli in 2nd Innings is:\n",
      "5\n"
     ]
    }
   ],
   "source": [
    "count2=data[data[\"Bat2\"]>=100].shape[0]\n",
    "print(\"No. of Centuries Scored by Virat Kohli in 2nd Innings is:\")\n",
    "print (count2)"
   ]
  },
  {
   "cell_type": "code",
   "execution_count": 34,
   "metadata": {},
   "outputs": [
    {
     "name": "stdout",
     "output_type": "stream",
     "text": [
      "Total No. of Centuries Scored by Virat Kohli\n",
      "23\n"
     ]
    }
   ],
   "source": [
    "count1=data[data[\"Bat1\"]>=100].shape[0]\n",
    "count2=data[data[\"Bat2\"]>=100].shape[0]\n",
    "count_Total=count1 + count2\n",
    "print(\"Total No. of Centuries Scored by Virat Kohli\")\n",
    "print (count_Total)\n"
   ]
  },
  {
   "cell_type": "code",
   "execution_count": 35,
   "metadata": {},
   "outputs": [
    {
     "data": {
      "image/png": "[encoded data removed]",
      "text/plain": [
       "<Figure size 432x288 with 1 Axes>"
      ]
     },
     "metadata": {
      "needs_background": "light"
     },
     "output_type": "display_data"
    },
    {
     "data": {
      "text/plain": [
       "<Figure size 1440x1152 with 0 Axes>"
      ]
     },
     "metadata": {},
     "output_type": "display_data"
    }
   ],
   "source": [
    "sns.countplot(y=data[\"Opposition\"])\n",
    "plt.title(\"No. of Matches played against each team\")\n",
    "plt.figure(figsize=(20,16))\n",
    "\n",
    "plt.show()"
   ]
  },
  {
   "cell_type": "code",
   "execution_count": 36,
   "metadata": {},
   "outputs": [
    {
     "data": {
      "text/plain": [
       "<Figure size 720x432 with 0 Axes>"
      ]
     },
     "execution_count": 36,
     "metadata": {},
     "output_type": "execute_result"
    },
    {
     "data": {
      "image/png": "[encoded data removed]",
      "text/plain": [
       "<Figure size 432x288 with 1 Axes>"
      ]
     },
     "metadata": {
      "needs_background": "light"
     },
     "output_type": "display_data"
    },
    {
     "data": {
      "text/plain": [
       "<Figure size 720x432 with 0 Axes>"
      ]
     },
     "metadata": {},
     "output_type": "display_data"
    }
   ],
   "source": [
    "sns.countplot(x=data[\"year\"])\n",
    "plt.title(\"No. of Matches played each year\")\n",
    "plt.figure(figsize=(10,6))"
   ]
  },
  {
   "cell_type": "code",
   "execution_count": 37,
   "metadata": {},
   "outputs": [
    {
     "data": {
      "text/plain": [
       "<matplotlib.axes._subplots.AxesSubplot at 0x2647fe71e80>"
      ]
     },
     "execution_count": 37,
     "metadata": {},
     "output_type": "execute_result"
    },
    {
     "data": {
      "image/png": "[encoded data removed]",
      "text/plain": [
       "<Figure size 1152x576 with 1 Axes>"
      ]
     },
     "metadata": {
      "needs_background": "light"
     },
     "output_type": "display_data"
    }
   ],
   "source": [
    "fig = plt.figure(figsize=(16,8))  \n",
    "fig.add_subplot(221)\n",
    "data.groupby('Opposition').Runs.sum().plot(kind='bar',title='runs scored against each team')"
   ]
  },
  {
   "cell_type": "code",
   "execution_count": 38,
   "metadata": {},
   "outputs": [
    {
     "data": {
      "text/plain": [
       "<matplotlib.axes._subplots.AxesSubplot at 0x2647feaf7c0>"
      ]
     },
     "execution_count": 38,
     "metadata": {},
     "output_type": "execute_result"
    },
    {
     "data": {
      "image/png": "[encoded data removed]",
      "text/plain": [
       "<Figure size 1440x1152 with 1 Axes>"
      ]
     },
     "metadata": {
      "needs_background": "light"
     },
     "output_type": "display_data"
    }
   ],
   "source": [
    "fig = plt.figure(figsize=(20,16))  \n",
    "fig.add_subplot(221)\n",
    "data.groupby('year').Runs.sum().plot(marker='o',title='runs scored against each year')"
   ]
  },
  {
   "cell_type": "code",
   "execution_count": 39,
   "metadata": {},
   "outputs": [
    {
     "data": {
      "text/plain": [
       "<matplotlib.axes._subplots.AxesSubplot at 0x264006ae760>"
      ]
     },
     "execution_count": 39,
     "metadata": {},
     "output_type": "execute_result"
    },
    {
     "data": {
      "image/png": "[encoded data removed]",
      "text/plain": [
       "<Figure size 1728x864 with 1 Axes>"
      ]
     },
     "metadata": {
      "needs_background": "light"
     },
     "output_type": "display_data"
    }
   ],
   "source": [
    "fig = plt.figure(figsize=(24,12))  \n",
    "ax=fig.add_subplot(221)\n",
    "data.groupby('Ground').Runs.sum().plot(kind='bar',title='runs scored at each venue')"
   ]
  },
  {
   "cell_type": "code",
   "execution_count": 40,
   "metadata": {},
   "outputs": [
    {
     "name": "stdout",
     "output_type": "stream",
     "text": [
      "Total venues played at: 43\n"
     ]
    }
   ],
   "source": [
    "print('Total venues played at:',data['Ground'].nunique())"
   ]
  },
  {
   "cell_type": "code",
   "execution_count": 41,
   "metadata": {},
   "outputs": [
    {
     "data": {
      "text/plain": [
       "<matplotlib.axes._subplots.AxesSubplot at 0x2647fe4cd30>"
      ]
     },
     "execution_count": 41,
     "metadata": {},
     "output_type": "execute_result"
    },
    {
     "data": {
      "image/png": "[encoded data removed]",
      "text/plain": [
       "<Figure size 1152x576 with 1 Axes>"
      ]
     },
     "metadata": {
      "needs_background": "light"
     },
     "output_type": "display_data"
    }
   ],
   "source": [
    "Inn1=data[\"Bat1\"]>=100\n",
    "data1=data[Inn1]\n",
    "fig = plt.figure(figsize=(16,8))  \n",
    "fig.add_subplot(221)\n",
    "data1.groupby('Opposition').Bat1.count().plot(kind='bar',title='Centuries in 1st innings')"
   ]
  },
  {
   "cell_type": "code",
   "execution_count": 42,
   "metadata": {},
   "outputs": [
    {
     "data": {
      "text/plain": [
       "<matplotlib.axes._subplots.AxesSubplot at 0x26400035ee0>"
      ]
     },
     "execution_count": 42,
     "metadata": {},
     "output_type": "execute_result"
    },
    {
     "data": {
      "image/png": "[encoded data removed]",
      "text/plain": [
       "<Figure size 1152x576 with 1 Axes>"
      ]
     },
     "metadata": {
      "needs_background": "light"
     },
     "output_type": "display_data"
    }
   ],
   "source": [
    "Inn2=data[\"Bat2\"]>=100\n",
    "data1=data[Inn2]\n",
    "fig = plt.figure(figsize=(16,8))  \n",
    "fig.add_subplot(221)\n",
    "data1.groupby('Opposition').Bat2.count().plot(kind='bar',title='Centuries in 2nd innings')"
   ]
  },
  {
   "cell_type": "code",
   "execution_count": 43,
   "metadata": {},
   "outputs": [
    {
     "data": {
      "text/plain": [
       "<matplotlib.axes._subplots.AxesSubplot at 0x2640028d430>"
      ]
     },
     "execution_count": 43,
     "metadata": {},
     "output_type": "execute_result"
    },
    {
     "data": {
      "image/png": "[encoded data removed]",
      "text/plain": [
       "<Figure size 1152x576 with 1 Axes>"
      ]
     },
     "metadata": {
      "needs_background": "light"
     },
     "output_type": "display_data"
    }
   ],
   "source": [
    "fig = plt.figure(figsize=(16,8))  \n",
    "fig.add_subplot(221)\n",
    "data.groupby('Opposition').Ct.sum().plot(kind='bar',title='Catches Taken')"
   ]
  },
  {
   "cell_type": "code",
   "execution_count": 44,
   "metadata": {},
   "outputs": [
    {
     "data": {
      "text/html": [
       "<div>\n",
       "<style scoped>\n",
       "    .dataframe tbody tr th:only-of-type {\n",
       "        vertical-align: middle;\n",
       "    }\n",
       "\n",
       "    .dataframe tbody tr th {\n",
       "        vertical-align: top;\n",
       "    }\n",
       "\n",
       "    .dataframe thead th {\n",
       "        text-align: right;\n",
       "    }\n",
       "</style>\n",
       "<table border=\"1\" class=\"dataframe\">\n",
       "  <thead>\n",
       "    <tr style=\"text-align: right;\">\n",
       "      <th></th>\n",
       "      <th>Bat1</th>\n",
       "      <th>Bat2</th>\n",
       "      <th>Runs</th>\n",
       "      <th>Wkts</th>\n",
       "      <th>Conc</th>\n",
       "      <th>Ct</th>\n",
       "      <th>St</th>\n",
       "      <th>Unnamed: 7</th>\n",
       "      <th>Opposition</th>\n",
       "      <th>Ground</th>\n",
       "      <th>Start Date</th>\n",
       "      <th>year</th>\n",
       "    </tr>\n",
       "  </thead>\n",
       "  <tbody>\n",
       "    <tr>\n",
       "      <th>41</th>\n",
       "      <td>200</td>\n",
       "      <td>0</td>\n",
       "      <td>200</td>\n",
       "      <td>-</td>\n",
       "      <td>0</td>\n",
       "      <td>2</td>\n",
       "      <td>0</td>\n",
       "      <td>NaN</td>\n",
       "      <td>West Indies</td>\n",
       "      <td>North Sound</td>\n",
       "      <td>21-Jul-16</td>\n",
       "      <td>2016</td>\n",
       "    </tr>\n",
       "    <tr>\n",
       "      <th>47</th>\n",
       "      <td>211</td>\n",
       "      <td>17</td>\n",
       "      <td>228</td>\n",
       "      <td>-</td>\n",
       "      <td>0</td>\n",
       "      <td>2</td>\n",
       "      <td>0</td>\n",
       "      <td>NaN</td>\n",
       "      <td>New Zealand</td>\n",
       "      <td>Indore</td>\n",
       "      <td>8-Oct-16</td>\n",
       "      <td>2016</td>\n",
       "    </tr>\n",
       "    <tr>\n",
       "      <th>51</th>\n",
       "      <td>235</td>\n",
       "      <td>0</td>\n",
       "      <td>235</td>\n",
       "      <td>-</td>\n",
       "      <td>0</td>\n",
       "      <td>2</td>\n",
       "      <td>0</td>\n",
       "      <td>NaN</td>\n",
       "      <td>England</td>\n",
       "      <td>Mumbai</td>\n",
       "      <td>8-Dec-16</td>\n",
       "      <td>2016</td>\n",
       "    </tr>\n",
       "    <tr>\n",
       "      <th>53</th>\n",
       "      <td>204</td>\n",
       "      <td>38</td>\n",
       "      <td>242</td>\n",
       "      <td>-</td>\n",
       "      <td>0</td>\n",
       "      <td>1</td>\n",
       "      <td>0</td>\n",
       "      <td>NaN</td>\n",
       "      <td>Bangladesh</td>\n",
       "      <td>Hyderabad (Deccan)</td>\n",
       "      <td>9-Feb-17</td>\n",
       "      <td>2017</td>\n",
       "    </tr>\n",
       "    <tr>\n",
       "      <th>61</th>\n",
       "      <td>213</td>\n",
       "      <td>0</td>\n",
       "      <td>213</td>\n",
       "      <td>-</td>\n",
       "      <td>0</td>\n",
       "      <td>1</td>\n",
       "      <td>0</td>\n",
       "      <td>NaN</td>\n",
       "      <td>Sri Lanka</td>\n",
       "      <td>Nagpur</td>\n",
       "      <td>24-Nov-17</td>\n",
       "      <td>2017</td>\n",
       "    </tr>\n",
       "    <tr>\n",
       "      <th>62</th>\n",
       "      <td>243</td>\n",
       "      <td>50</td>\n",
       "      <td>293</td>\n",
       "      <td>0</td>\n",
       "      <td>1</td>\n",
       "      <td>0</td>\n",
       "      <td>0</td>\n",
       "      <td>NaN</td>\n",
       "      <td>Sri Lanka</td>\n",
       "      <td>Delhi</td>\n",
       "      <td>2-Dec-17</td>\n",
       "      <td>2017</td>\n",
       "    </tr>\n",
       "  </tbody>\n",
       "</table>\n",
       "</div>"
      ],
      "text/plain": [
       "    Bat1  Bat2  Runs Wkts  Conc  Ct  St  Unnamed: 7   Opposition  \\\n",
       "41   200     0   200    -     0   2   0         NaN  West Indies   \n",
       "47   211    17   228    -     0   2   0         NaN  New Zealand   \n",
       "51   235     0   235    -     0   2   0         NaN      England   \n",
       "53   204    38   242    -     0   1   0         NaN   Bangladesh   \n",
       "61   213     0   213    -     0   1   0         NaN    Sri Lanka   \n",
       "62   243    50   293    0     1   0   0         NaN    Sri Lanka   \n",
       "\n",
       "                Ground Start Date  year  \n",
       "41         North Sound  21-Jul-16  2016  \n",
       "47              Indore   8-Oct-16  2016  \n",
       "51              Mumbai   8-Dec-16  2016  \n",
       "53  Hyderabad (Deccan)   9-Feb-17  2017  \n",
       "61              Nagpur  24-Nov-17  2017  \n",
       "62               Delhi   2-Dec-17  2017  "
      ]
     },
     "execution_count": 44,
     "metadata": {},
     "output_type": "execute_result"
    }
   ],
   "source": [
    "Inn1=data[\"Bat1\"]>=200\n",
    "data[Inn1]"
   ]
  },
  {
   "cell_type": "code",
   "execution_count": 45,
   "metadata": {},
   "outputs": [
    {
     "name": "stdout",
     "output_type": "stream",
     "text": [
      "No. of Double Centuries Score by Virat Kohli in 1st innings\n"
     ]
    },
    {
     "data": {
      "text/plain": [
       "6"
      ]
     },
     "execution_count": 45,
     "metadata": {},
     "output_type": "execute_result"
    }
   ],
   "source": [
    "print (\"No. of Double Centuries Score by Virat Kohli in 1st innings\")\n",
    "data[Inn1].shape[0]"
   ]
  },
  {
   "cell_type": "code",
   "execution_count": 46,
   "metadata": {},
   "outputs": [
    {
     "name": "stdout",
     "output_type": "stream",
     "text": [
      "No. of Double Centuries Score by Virat Kohli in 2nd innings\n"
     ]
    },
    {
     "data": {
      "text/plain": [
       "0"
      ]
     },
     "execution_count": 46,
     "metadata": {},
     "output_type": "execute_result"
    }
   ],
   "source": [
    "Inn2=data[\"Bat2\"]>=200\n",
    "print (\"No. of Double Centuries Score by Virat Kohli in 2nd innings\")\n",
    "data[Inn2].shape[0]"
   ]
  },
  {
   "cell_type": "markdown",
   "metadata": {},
   "source": [
    "**Virat Kohli has scored 0 double centuries in 2st innings**"
   ]
  },
  {
   "cell_type": "code",
   "execution_count": null,
   "metadata": {},
   "outputs": [],
   "source": []
  }
 ],
 "metadata": {
  "kernelspec": {
   "display_name": "Python 3",
   "language": "python",
   "name": "python3"
  }
 },
 "nbformat": 4,
 "nbformat_minor": 4
}
